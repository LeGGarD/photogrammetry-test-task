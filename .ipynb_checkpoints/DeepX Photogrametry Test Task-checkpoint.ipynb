{
 "cells": [
  {
   "cell_type": "markdown",
   "id": "ae1f049f",
   "metadata": {},
   "source": [
    "# Photogrammetry  \n",
    "  \n",
    "***\n",
    "## Goals  \n",
    "  \n",
    "- Calculate distance to the human actor using coordinates (x;y position of the human face in the frame) from two cameras placed in parallel.  \n",
    "- Provide single space x;y;z coordinates for the object.  \n",
    "  \n",
    "***\n",
    "## Description   \n",
    "<img src='./images/1.png' alt='room top view' width='500'>  \n",
    "  \n",
    "Small room with a human actor inside. On one of the walls we have two cameras placed in parallel to each other:  \n",
    "  \n",
    "- Distance between the cameras: 1 meter (100.0)  \n",
    "- Angle of view (AOV) for both cameras: 78° (degrees)  \n",
    "- Frame width: 2048 px; Frame height: 1080 px.   \n",
    "  \n",
    "### Simplified example  \n",
    "Two cameras (Blue and Green) are observing the Actor movements on the scene:  \n",
    "<img src='./images/2.png' alt='room top view' width='750'>  \n",
    "  \n",
    "### Observable frames for “Actor position 1” (In-front of the camera #1):  \n",
    "<img src='./images/3.png' alt='room top view' width='500'>  \n",
    "  \n",
    "Simplified coordinates (for illustrative purposes only):  \n",
    "> #### Input:  \n",
    "> Camera #1 coordinates: x:1024 y:540  \n",
    "> Camera #2 coordinates: x:0 y:540  \n",
    "> #### Output:  \n",
    "> Estimate of Mid camera position: x:512 y:540 z: 250  \n",
    "  \n",
    "### “Actor position 2” (Between the cameras):  \n",
    "<img src='./images/4.png' alt='room top view' width='500'>  \n",
    "  \n",
    "### “Actor position 3” (In-front of the camera #2):  \n",
    "<img src='./images/5.png' alt='room top view' width='500'>  \n",
    "  \n",
    "***\n",
    "## Delivery  \n",
    "  \n",
    "Python or C/C++ script which accepts X;Y coordinates for two cameras and returns the x;y;z single space coordinates (e.g. assuming the mid camera position).  \n",
    "X - horizontal coordinate;  \n",
    "Y - Vertical coordinate;  \n",
    "Z - Depth / Distance to the object."
   ]
  },
  {
   "cell_type": "markdown",
   "id": "1b6a48fc",
   "metadata": {},
   "source": [
    "***  \n",
    "# Solution\n",
    "***"
   ]
  },
  {
   "cell_type": "markdown",
   "id": "9e057bb5",
   "metadata": {},
   "source": [
    "1. Unfortunately, I haven't got any experience working with photogrammetry tasks yet. Therefore, at first, I have to dive into the theory and gather some knowledge  \n",
    "  \n",
    "2. I also want to focus on the task and clear the plan of solving it.  \n",
    "   After my small math investigation I will have to write a `python class` or a `function`, which will have:\n",
    "   > **Its input:**  \n",
    "   > - `tuple(int, int)` X, Y coordinate of the face center from Camera 1  \n",
    "   > - `tuple(int, int)` X, Y coordinate of the face center from Camera 2  \n",
    "   >\n",
    "   > Also these args are hardcoded by the task:  \n",
    "   > - `float` Distance between cameras  \n",
    "   > - `float` Angle of view (AOV)  \n",
    "   > - `(int, int)` Frame resolution  \n",
    "  \n",
    "   > **Output:**  \n",
    "   > - `tuple(int, int, int)` of X, Y, Z coordinates of the object "
   ]
  },
  {
   "cell_type": "markdown",
   "id": "e3fd46d2",
   "metadata": {},
   "source": [
    "***  \n",
    "## How to find the distance to an object using two cameras  \n",
    "[Source article](https://www.sciencedirect.com/science/article/pii/S2590005620300011)\n",
    "  \n",
    "<img src='./images/3.jpg' alt='stereo camera schema' width='300'>  \n",
    "  \n",
    "Firstly I have to express somehow the height (`h`) of the triangle via known measurements in a few possible ways  \n",
    "  \n",
    "From $ sin\\phi = \\frac{h}{B} $, $ sin\\theta = \\frac{h}{C} $ we know that:  \n",
    "  \n",
    "$ h = B * sin\\phi = C * sin\\theta $  \n",
    "  \n",
    "From law of sines: $ \\frac{A}{sin\\alpha} = \\frac{B}{sin\\theta} $:\n",
    "  \n",
    "$ B = \\frac{A sin\\theta}{sin\\alpha} $  \n",
    "  \n",
    "And finally we can represent `h` as: $ h = \\frac{A sin\\theta * sin\\phi}{sin\\alpha} $\n",
    "  \n",
    "<img src='./images/2.jpg' alt='stereo camera schema' width='700'>  \n",
    "  \n",
    "Now I have to find a representation for $ \\phi, \\theta $ and $ \\alpha $  \n",
    "  \n",
    "At first, I can easily find the $ \\beta $ angles via:  \n",
    "  \n",
    "$ \\beta = \\frac{180 - \\omega}{2} $  \n",
    "  \n",
    "Then I have to find O angles, which are our last piece of the puzzle in getting $\\phi$ and $\\theta$ angles  \n",
    "  \n",
    "It can be done by multiplying $P_1$, $P_2$ by $AP_1$, $AP_2$, where:  \n",
    "> $P_1$ - is the distance between the object center and the right frame border  \n",
    "> $P_2$ - is the distance between the object center and the left frame border  \n",
    "> $AP$ - is Angle per Pixel rate, which is the same for both cameras in our case annd equals $ AP = \\frac{\\omega}{H} $  \n",
    "  \n",
    "$ O_1 = P_1 * AP_1 $, and $ O_2 = P_2 * AP_2 $  \n",
    "  \n",
    "Now we can assemble $\\phi$ and $\\theta$ angles formulas:  \n",
    "  \n",
    "$ \\phi = P_1 * \\frac{\\omega_1}{H_1} + \\beta_1 $, and $ \\theta = P_2 * \\frac{\\omega_2}{H_2} + \\beta_2 $  \n",
    "  \n",
    "Here we are left with only unknown $\\alpha$ angle, which can be defined as below:  \n",
    "  \n",
    "$ \\alpha = 180 - (\\phi + \\omega) $  \n",
    "  \n",
    "All in all, we can represent `h` as:  \n",
    "  \n",
    "$$ h = \\frac{Asin(P_2 * \\frac{\\omega_2}{H_2} + \\beta_2) * sin(P_1 * \\frac{\\omega_1}{H_1} + \\beta_1)}{sin(180 - P_1 * \\frac{\\omega_1}{H_1} + \\beta_1 + \\omega + P_2 * \\frac{\\omega_2}{H_2} + \\beta_2)} $$"
   ]
  },
  {
   "cell_type": "markdown",
   "id": "2d51dffa",
   "metadata": {},
   "source": [
    "***\n",
    "## The function code:"
   ]
  },
  {
   "cell_type": "code",
   "execution_count": 36,
   "id": "fe3f82d7",
   "metadata": {},
   "outputs": [],
   "source": [
    "from typing import Tuple\n",
    "import numpy as np\n",
    "import matplotlib.pyplot as plt"
   ]
  },
  {
   "cell_type": "code",
   "execution_count": 134,
   "id": "67459deb",
   "metadata": {},
   "outputs": [],
   "source": [
    "def calculate_distance(coords1: Tuple[int, int], \\\n",
    "                       coords2: Tuple[int, int], \\\n",
    "                       dist_between_cams: int = 100, \\\n",
    "                       aov: float = 78, \\\n",
    "                       resolution: Tuple[int, int] = (2048, 1080), \\\n",
    "                       verbose: int = 0) -> int:\n",
    "    \"\"\"\n",
    "    This function receives 2 tuples with coordinates of object center from 2 cameras\n",
    "    And returns the distance to the object\n",
    "    \"\"\"    \n",
    "    P1 = resolution[0] - coords1[0]\n",
    "    P2 = coords2[0]\n",
    "    \n",
    "    AP = aov / resolution[0]\n",
    "    beta = (180 - aov) / 2\n",
    "    \n",
    "    phi = P1 * AP + beta\n",
    "    theta = P2 * AP + beta\n",
    "    alpha = 180 - (phi + theta)\n",
    "    \n",
    "    z = (dist_between_cams * np.sin(np.radians(theta)) * np.sin(np.radians(phi))) / (np.sin(np.radians(alpha)))\n",
    "    \n",
    "    if verbose > 0:\n",
    "        print(f'dist_between_cams: {dist_between_cams}, aov: {aov}, resolution: {resolution}\\n'\n",
    "              f'P1: {P1}, P2: {P2}, AP: {AP}, beta: {beta}\\n'\n",
    "              f'phi: {phi}, theta: {theta}, alpha: {alpha}\\n'\n",
    "              f'z: {z}')\n",
    "    \n",
    "    return round(z, 1)"
   ]
  },
  {
   "cell_type": "code",
   "execution_count": 137,
   "id": "14eec964",
   "metadata": {},
   "outputs": [
    {
     "name": "stdout",
     "output_type": "stream",
     "text": [
      "dist_between_cams: 100, aov: 78, resolution: (2048, 1080)\n",
      "P1: 48, P2: 48, AP: 0.0380859375, beta: 51.0\n",
      "phi: 52.828125, theta: 52.828125, alpha: 74.34375\n",
      "z: 65.93975442623402\n"
     ]
    },
    {
     "data": {
      "text/plain": [
       "65.9"
      ]
     },
     "execution_count": 137,
     "metadata": {},
     "output_type": "execute_result"
    }
   ],
   "source": [
    "# a test case\n",
    "calculate_distance((2000, 540), (48, 540), verbose=1)"
   ]
  },
  {
   "cell_type": "code",
   "execution_count": 160,
   "id": "46799387",
   "metadata": {},
   "outputs": [
    {
     "data": {
      "image/png": "[encoded data removed]",
      "text/plain": [
       "<Figure size 864x576 with 1 Axes>"
      ]
     },
     "metadata": {
      "needs_background": "light"
     },
     "output_type": "display_data"
    }
   ],
   "source": [
    "# a bigger test\n",
    "grid = np.arange(0, 1000 + 1)\n",
    "calc_dist_results = []\n",
    "\n",
    "for i in grid:\n",
    "    # the function gets such coordinates as we would slowly step straight backwards (away from cameras)\n",
    "    calc_dist_results.append(calculate_distance((2048 - i, 540), (0 + i, 540)))\n",
    "\n",
    "# the graphic have to looks like an exponent function\n",
    "plt.figure(figsize=(12, 8))\n",
    "plt.plot(grid, calc_dist_results)\n",
    "plt.title('Code test')\n",
    "plt.xlabel('P1/P2 (the distance between the object center and the left/right frame borders)')\n",
    "plt.ylabel('Distance to the object')\n",
    "plt.show()"
   ]
  },
  {
   "cell_type": "markdown",
   "id": "d1d11354",
   "metadata": {},
   "source": [
    "***\n",
    "## Some conclusions and problems:\n",
    "\n",
    "Now my function returns the distance to the object by the given tuples of coordinates and it works correctly, BUT it returns us the value in centimeters  \n",
    "**Therefore, we can't just type the `distance to the object` value as a third coordinate**  \n",
    "  \n",
    "I decided it would be right to come up with a new single space (with units measured in centimeters), which would represent an actors position on a scene  \n",
    "So far we already have 2-dimensional space with the units in centimeters. Segments, which are representing the space are:  \n",
    "- Distance between cameras  \n",
    "- The found distance to the object/person  \n",
    "  \n",
    "These will be our X and Z axes  \n",
    "I've decided, that the anchor point (a point in a 3-dimensional space with coordinates (0, 0, 0)) is in our mid camera  \n",
    ">`X+` means that the actor is on the right relative to the mid cam  \n",
    ">`Y+` means that the centroid of the face is higher than the mid cam  \n",
    ">`Z+` means that the actor is in front of the mid cam  \n",
    "  \n",
    "### Further plan:   \n",
    "Add two more functions, which will calculate X, Y coordinates in centimeter-united space  \n",
    "  \n",
    "**Additionally:**  \n",
    "- I will code everything in OOP style  \n",
    "- Add some exceptions  \n",
    "- Specify functions arguments and outputs\n",
    "- Write some comments\n",
    "- Add a bit of debug strings\n",
    "\n",
    "***\n",
    "## More code:"
   ]
  },
  {
   "cell_type": "code",
   "execution_count": 151,
   "id": "3ffc1266",
   "metadata": {},
   "outputs": [],
   "source": [
    "class ActorPosition:\n",
    "\n",
    "    def __init__(self, dist_between_cams: int = 100, aov: float = 78, resolution: Tuple[int, int] = (2048, 1080),\n",
    "                 verbose: int = 0):\n",
    "        self.dist_between_cams = dist_between_cams\n",
    "        self.aov = aov\n",
    "        self.resolution = resolution\n",
    "        self.verbose = verbose\n",
    "\n",
    "        if self.verbose > 0:\n",
    "            print(f'ActorPosition.__init__(): dist_between_cams = {dist_between_cams}, aov = {aov}, '\n",
    "                  f'resolution = {resolution}')\n",
    "\n",
    "    def find_z(self, theta: float, phi: float, alpha: float) -> float:\n",
    "        # height = (dist_between_cams * sin(theta) * sin(phi)) / sin(alpha)\n",
    "        z = (self.dist_between_cams * np.sin(np.radians(theta)) * np.sin(np.radians(phi))) / np.sin(np.radians(alpha))\n",
    "\n",
    "        if self.verbose > 0:\n",
    "            print(f'ActorPosition.find_z(): z = {z:.1f}cm')\n",
    "\n",
    "        return round(z, 1)\n",
    "\n",
    "    def find_x(self, z: float, phi: float) -> float:\n",
    "        B = z / np.sin(np.radians(phi))\n",
    "        AD = np.sqrt((B ** 2) - (z ** 2))\n",
    "        x = AD - 50\n",
    "\n",
    "        if self.verbose > 0:\n",
    "            print(f'ActorPosition.find_x(): x = {x:.1f}cm,\\nB = {B:.1f}cm, AD = {AD:.1f}cm')\n",
    "\n",
    "        return round(x, 1)\n",
    "\n",
    "    def find_y(self, z: float, y_coord: int) -> float:\n",
    "        vertical_aov = (self.aov * self.resolution[1]) / self.resolution[0]\n",
    "        vertical_AP = vertical_aov / self.resolution[1]\n",
    "        vertical_P = y_coord - (self.resolution[1] / 2)\n",
    "        gamma = vertical_AP * vertical_P\n",
    "        y = z * np.tan(np.radians(gamma))\n",
    "\n",
    "        if self.verbose > 0:\n",
    "            print(f'ActorPosition.find_y(): y = {y:.1f}cm,\\nvertical_aov = {vertical_aov:.3f}, vertical_AP = {vertical_AP:.3f}, '\n",
    "                  f'vertical_P = {vertical_P}, gamma = {gamma}')\n",
    "\n",
    "        return round(y, 1)\n",
    "\n",
    "    def calculate_position(self, coords1: Tuple[int, int], coords2: Tuple[int, int]) -> Tuple[float, float, float]:\n",
    "        \"\"\"\n",
    "        The function receives 2 tuples with coordinates of an object centroid from 2 cameras\n",
    "        And returns the object position (in measurements system in which lies dist_between_cams argument)\n",
    "        The anchor point of returned coordinates is located into the center camera\n",
    "        \"\"\"\n",
    "        try:\n",
    "            # Checking for correspondence between cameras resolution and given coordinates\n",
    "            if coords1[0] <= self.resolution[0] and coords2[0] <= self.resolution[0] and \\\n",
    "               coords1[1] <= self.resolution[1] and coords2[1] <= self.resolution[1]:\n",
    "\n",
    "                # The distance in pixel between the centroid of the object and the end of the overlap area\n",
    "                # for the camera on the left (P1) | right (P2)\n",
    "                P1 = self.resolution[0] - coords1[0]\n",
    "                P2 = coords2[0]\n",
    "\n",
    "                # AP - Angle per Pixel\n",
    "                AP = self.aov / self.resolution[0]\n",
    "                # beta - is the angle between camera aov border and 'distance_between_cams' line\n",
    "                beta = (180 - self.aov) / 2\n",
    "\n",
    "                # theta/phi are the angles at the base of the triangle\n",
    "                theta = P2 * AP + beta\n",
    "                phi = P1 * AP + beta\n",
    "                # the last angle\n",
    "                alpha = 180 - (phi + theta)\n",
    "\n",
    "                if theta > 0 and phi > 0 and alpha > 0:\n",
    "                    z = self.find_z(theta, phi, alpha)\n",
    "                    x = self.find_x(z, phi)\n",
    "                    y = self.find_y(z, coords1[1])\n",
    "\n",
    "                    if self.verbose > 0:\n",
    "                        print(\n",
    "                            f'ActorPosition.calculate_position(): P1 = {P1}, P2 = {P2}, AP = {AP:.3f}, beta = {beta}, phi = {phi:.1f}, '\n",
    "                            f'theta = {theta:.1f}, alpha = {alpha:.1f}\\n')\n",
    "                    print(f'Actor position: {(x, y, z)}')\n",
    "\n",
    "                else:\n",
    "                    print(f'ActorPosition.calculate_position(): WARNING! Provided coordinates are wrong {coords1}, '\n",
    "                          f'{coords2}. Ensure that you pass real values')\n",
    "                    return None\n",
    "\n",
    "            else:\n",
    "                print(f'ActorPosition.calculate_position(): WARNING! Provided coordinates don\\'t fit cameras resolution\\n'\n",
    "                      f'You may need to specify \"resolution\" as a positional argument, when creating the class instance\\n'\n",
    "                      f'{coords1}, {coords2} not in {self.resolution}')\n",
    "                return None\n",
    "\n",
    "            return x, y, z\n",
    "\n",
    "        except TypeError as e:\n",
    "            print(f'ActorPosition.calculate_position(): ERROR! Some arguments most likely were provided as wrong type\\n{e}')"
   ]
  },
  {
   "cell_type": "code",
   "execution_count": 152,
   "id": "c0069cb2",
   "metadata": {},
   "outputs": [
    {
     "name": "stdout",
     "output_type": "stream",
     "text": [
      "ActorPosition.__init__(): dist_between_cams = 100, aov = 78, resolution = (2048, 1080)\n",
      "ActorPosition.find_z(): z = 65.9cm\n",
      "ActorPosition.find_x(): x = -0.0cm,\n",
      "B = 82.7cm, AD = 50.0cm\n",
      "ActorPosition.find_y(): y = 0.0cm,\n",
      "vertical_aov = 41.133, vertical_AP = 0.038, vertical_P = 0.0, gamma = 0.0\n",
      "ActorPosition.calculate_position(): P1 = 48, P2 = 48, AP = 0.038, beta = 51.0, phi = 52.8, theta = 52.8, alpha = 74.3\n",
      "\n",
      "Actor position: (-0.0, 0.0, 65.9)\n"
     ]
    },
    {
     "data": {
      "text/plain": [
       "(-0.0, 0.0, 65.9)"
      ]
     },
     "execution_count": 152,
     "metadata": {},
     "output_type": "execute_result"
    }
   ],
   "source": [
    "# simple test case\n",
    "actor_pos = ActorPosition(verbose=1)\n",
    "actor_pos.calculate_position((2000, 540), (48, 540))"
   ]
  },
  {
   "cell_type": "code",
   "execution_count": 153,
   "id": "87821c84",
   "metadata": {},
   "outputs": [
    {
     "name": "stdout",
     "output_type": "stream",
     "text": [
      "Actor position: (-19.8, 12.3, 92.1)\n"
     ]
    },
    {
     "data": {
      "text/plain": [
       "(-19.8, 12.3, 92.1)"
      ]
     },
     "execution_count": 153,
     "metadata": {},
     "output_type": "execute_result"
    }
   ],
   "source": [
    "# actor in a random position\n",
    "actor_pos = ActorPosition(verbose=0)\n",
    "actor_pos.calculate_position((1500, 740), (48, 740))"
   ]
  },
  {
   "cell_type": "markdown",
   "id": "7d78025c",
   "metadata": {},
   "source": [
    "**Meaning of the coords above:**  \n",
    "The actor is approximately 20 cm to the left of the middle camera, his face is 12 cm higher than the mid camera and he is approximately 1 meter away from the mid camera  \n",
    "***  \n",
    "**Warnings and \n",
    "exceptions tests:**"
   ]
  },
  {
   "cell_type": "code",
   "execution_count": 154,
   "id": "b5a7a66d",
   "metadata": {},
   "outputs": [
    {
     "name": "stdout",
     "output_type": "stream",
     "text": [
      "ActorPosition.calculate_position(): WARNING! Provided coordinates don't fit cameras resolution\n",
      "You may need to specify \"resolution\" as a positional argument, when creating the class instance\n",
      "(3000, 740), (48, 740) not in (2048, 1080)\n"
     ]
    }
   ],
   "source": [
    "# Warning 1. Given coords bigger than have to be\n",
    "actor_pos = ActorPosition(verbose=0)\n",
    "actor_pos.calculate_position((3000, 740), (48, 740))"
   ]
  },
  {
   "cell_type": "code",
   "execution_count": 156,
   "id": "199170c4",
   "metadata": {},
   "outputs": [
    {
     "name": "stdout",
     "output_type": "stream",
     "text": [
      "ActorPosition.calculate_position(): WARNING! Provided coordinates are wrong (-3000, 740), (48, 740). Ensure that you pass real values\n"
     ]
    }
   ],
   "source": [
    "# Warning 2. Given coords results with zero/negative angles in the triangle\n",
    "actor_pos = ActorPosition(verbose=0)\n",
    "actor_pos.calculate_position((-3000, 740), (48, 740))"
   ]
  },
  {
   "cell_type": "code",
   "execution_count": 158,
   "id": "eb53853d",
   "metadata": {},
   "outputs": [
    {
     "name": "stdout",
     "output_type": "stream",
     "text": [
      "ActorPosition.calculate_position(): ERROR! Some arguments most likely were provided as wrong type\n",
      "'NoneType' object is not subscriptable\n"
     ]
    }
   ],
   "source": [
    "# Error. Basic TypeError exception\n",
    "actor_pos = ActorPosition(verbose=0)\n",
    "actor_pos.calculate_position(None, (48, 740))"
   ]
  },
  {
   "cell_type": "markdown",
   "id": "c9fb8eed",
   "metadata": {},
   "source": [
    "***\n",
    "**P.S. Here are some sketches I've done during the solution development. I just find them funny :)**\n",
    "<img src='./images/8.png' alt='stereo camera schema' width='900'>  \n",
    "<img src='./images/10.png' alt='stereo camera schema' width='900'>  \n",
    "<img src='./images/9.png' alt='stereo camera schema' width='900'>  "
   ]
  }
 ],
 "metadata": {
  "kernelspec": {
   "display_name": "Python 3 (ipykernel)",
   "language": "python",
   "name": "python3"
  },
  "language_info": {
   "codemirror_mode": {
    "name": "ipython",
    "version": 3
   },
   "file_extension": ".py",
   "mimetype": "text/x-python",
   "name": "python",
   "nbconvert_exporter": "python",
   "pygments_lexer": "ipython3",
   "version": "3.8.10"
  }
 },
 "nbformat": 4,
 "nbformat_minor": 5
}
